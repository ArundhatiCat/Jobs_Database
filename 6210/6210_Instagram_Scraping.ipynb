{
 "cells": [
  {
   "cell_type": "code",
   "execution_count": 3,
   "metadata": {},
   "outputs": [
    {
     "name": "stdout",
     "output_type": "stream",
     "text": [
      "Session file does not exist yet - Logging in.\n",
      "Enter Instagram password for goldernshade: ········\n",
      "Saved session to /var/folders/xt/474nngtj2p97z11pkr2j_q080000gn/t/.instaloader-zhaosihan/session-goldernshade.\n"
     ]
    }
   ],
   "source": [
    "# login to Instagram use personal account and specify target account for analysis\n",
    "login_name = 'nerdy_nerd'\n",
    "target_profile = 'emilia_clarke'\n",
    "\n",
    "from instaloader import Instaloader, Profile\n",
    "loader = Instaloader()\n",
    "\n",
    "try:\n",
    "    loader.load_session_from_file(login_name)\n",
    "    #profile = instaloader.Profile.from_username(loader.context, target_profile)\n",
    "    profile = Profile.from_username(loader.context, target_profile)\n",
    "except FileNotFoundError:\n",
    "    loader.context.log(\"Session file does not exist yet - Logging in.\")\n",
    "if not loader.context.is_logged_in:\n",
    "    loader.interactive_login(login_name)\n",
    "    loader.save_session_to_file()"
   ]
  },
  {
   "cell_type": "code",
   "execution_count": 7,
   "metadata": {},
   "outputs": [],
   "source": [
    "postList = []\n",
    "\n",
    "for post in posts:    \n",
    "    postId = post.mediaid\n",
    "    ownerId = post.owner_id\n",
    "    date = post.date\n",
    "    caption = post.caption   \n",
    "    likes = post.likes \n",
    "    comments = post.comments\n",
    "    tempPost = (postId, ownerId, date, caption, likes, comments)\n",
    "    postList.append(tempPost)\n",
    "#postList"
   ]
  },
  {
   "cell_type": "code",
   "execution_count": 27,
   "metadata": {},
   "outputs": [],
   "source": [
    "# write into csv file: POST_LIST.csv\n",
    "import csv\n",
    "\n",
    "with open('1809062259_POST_LIST.csv', 'w') as csvFile:\n",
    "    writer = csv.writer(csvFile)\n",
    "    writer.writerow(['postId', \"ownerId\", \"date\", \"caption\", \"likes\", \"comments\"])\n",
    "    # writer.writerow(['postId', \"ownerId\", \"date\", \"caption\", \"hashtags\", \"likes\", \"likesList\", \"comments\", \"commentsList\"])\n",
    "    writer.writerows(postList)\n",
    "\n",
    "csvFile.close()\n",
    "\n",
    "column_names = ['postId', \"ownerId\", \"date\", \"caption\", \"hashtags\", \"likes\", \"likesList\", \"comments\", \"commentsList\"]\n"
   ]
  },
  {
   "cell_type": "code",
   "execution_count": 32,
   "metadata": {},
   "outputs": [],
   "source": [
    "import instaloader\n",
    "\n",
    "L = instaloader.Instaloader()\n",
    "\n",
    "posts = instaloader.Profile.from_username(L.context, 'emilia_clarke').get_posts()"
   ]
  },
  {
   "cell_type": "code",
   "execution_count": 33,
   "metadata": {},
   "outputs": [],
   "source": [
    "hashtagList = []\n",
    "for post in posts:    \n",
    "    postId = post.mediaid\n",
    "    hashtags = post.caption_hashtags\n",
    "    tempHashtag = (postId, hashtags)\n",
    "    hashtagList.append(tempHashtag)\n"
   ]
  },
  {
   "cell_type": "code",
   "execution_count": 30,
   "metadata": {},
   "outputs": [],
   "source": [
    "# write into csv file: HASHTAG_LIST.csv\n",
    "import csv\n",
    "\n",
    "with open('1809062259_HASHTAG_LIST.csv', 'w') as csvFile:\n",
    "    writer = csv.writer(csvFile)\n",
    "    writer.writerow(['postId', \"hashtags\"])\n",
    "    writer.writerows(hashtagList)\n",
    "\n",
    "csvFile.close()"
   ]
  },
  {
   "cell_type": "code",
   "execution_count": 8,
   "metadata": {},
   "outputs": [],
   "source": [
    "commentsList = []\n",
    "for post in posts:    \n",
    "    postId = post.mediaid\n",
    "    for comment in post.get_comments():\n",
    "        commentId = comment.id\n",
    "        commentDate = comment.created_at_utc\n",
    "        commentText = comment.text\n",
    "        commentOwnerId = comment.owner.userid\n",
    "        commentOwnerName = comment.owner.username\n",
    "        tempComment = (postId, commentId, commentDate, commentText, commentOwnerId, commentOwnerName)\n",
    "        commentsList.append(tempComment)"
   ]
  },
  {
   "cell_type": "code",
   "execution_count": 36,
   "metadata": {},
   "outputs": [],
   "source": [
    "# write into csv file: COMMENT_LIST.csv\n",
    "import csv\n",
    "\n",
    "with open('1809062259_COMMENT_LIST.csv', 'w') as csvFile:\n",
    "    writer = csv.writer(csvFile)\n",
    "    writer.writerow(['postId', \"commentId\", 'commentDate', \"commentText\", 'commentOwnerId', \"commentOwnerName\"])\n",
    "    writer.writerows(commentsList)\n",
    "\n",
    "csvFile.close()"
   ]
  },
  {
   "cell_type": "code",
   "execution_count": null,
   "metadata": {},
   "outputs": [],
   "source": [
    "# 1. connect to local mysql, create database: posts, create table: post_list\n",
    "# 2. insert all data from postsDetail.csv to mysql\n",
    "\n",
    "import mysql.connector as mysql\n",
    "\n",
    "db = mysql.connect(\n",
    "    host = \"localhost\",\n",
    "    user = \"root\",\n",
    "    passwd = \"Big@dreamer1\",\n",
    "    database = \"posts\"\n",
    ")\n",
    "cursor = db.cursor(buffered=True)\n",
    "\n",
    "#cursor.execute(\"CREATE DATABASE Posts\")\n",
    "#cursor.execute(\"CREATE TABLE PostsDetail(postId VARCHAR(255), ownerId VARCHAR(255), date DATETIME(6), caption VARCHAR(255), likes VARCHAR(255), comments VARCHAR(255))\")\n",
    "#cursor.executemany(\"INSERT INTO PostsDetail(postId, ownerId, date, caption, hashtags, likes, likesList, comments, commentsList) VALUES (%s, %s, %s, %s, %s, %s, %s, %s, %s)\", postList)\n",
    "\n",
    "cursor.executemany(\"INSERT INTO PostsDetail(postId, ownerId, date, caption, likes, comments) VALUES (%s, %s, %s, %s, %s, %s)\", postList)\n",
    "db.commit()\n",
    "db.close()"
   ]
  },
  {
   "cell_type": "markdown",
   "metadata": {},
   "source": [
    "Copyright <2019>\n",
    "\n",
    "Permission is hereby granted, free of charge, to any person obtaining a copy of this software and associated documentation files (the \"Software\"), to deal in the Software without restriction, including without limitation the rights to use, copy, modify, merge, publish, distribute, sublicense, and/or sell copies of the Software, and to permit persons to whom the Software is furnished to do so, subject to the following conditions:\n",
    "\n",
    "The above copyright notice and this permission notice shall be included in all copies or substantial portions of the Software.\n",
    "\n",
    "THE SOFTWARE IS PROVIDED \"AS IS\", WITHOUT WARRANTY OF ANY KIND, EXPRESS OR IMPLIED, INCLUDING BUT NOT LIMITED TO THE WARRANTIES OF MERCHANTABILITY, FITNESS FOR A PARTICULAR PURPOSE AND NONINFRINGEMENT. IN NO EVENT SHALL THE AUTHORS OR COPYRIGHT HOLDERS BE LIABLE FOR ANY CLAIM, DAMAGES OR OTHER LIABILITY, WHETHER IN AN ACTION OF CONTRACT, TORT OR OTHERWISE, ARISING FROM, OUT OF OR IN CONNECTION WITH THE SOFTWARE OR THE USE OR OTHER DEALINGS IN THE SOFTWARE."
   ]
  }
 ],
 "metadata": {
  "kernelspec": {
   "display_name": "Python 3 (ipykernel)",
   "language": "python",
   "name": "python3"
  },
  "language_info": {
   "codemirror_mode": {
    "name": "ipython",
    "version": 3
   },
   "file_extension": ".py",
   "mimetype": "text/x-python",
   "name": "python",
   "nbconvert_exporter": "python",
   "pygments_lexer": "ipython3",
   "version": "3.8.5"
  }
 },
 "nbformat": 4,
 "nbformat_minor": 2
}
