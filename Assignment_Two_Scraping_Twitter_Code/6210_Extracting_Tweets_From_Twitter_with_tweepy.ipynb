{
 "cells": [
  {
   "cell_type": "markdown",
   "metadata": {},
   "source": [
    "# Extracting Images and Textual Information From Twitter\n"
   ]
  },
  {
   "cell_type": "markdown",
   "metadata": {},
   "source": [
    "## Introduction\n",
    "\n",
    "Here we are using twitter API to extract tweets related with brands of our interest and also we are getting the images associated with the tweet. Every tweet is then passed through google's sentimental analysis API and tweet is classified into positive, negative or neutral. Images are passed through object localization and CNN model to identify logos present in the image. All this information is then collected and visualized in tableau (data visualization tool). "
   ]
  },
  {
   "cell_type": "markdown",
   "metadata": {},
   "source": [
    "## Importing Essential Libraries"
   ]
  },
  {
   "cell_type": "code",
   "execution_count": 1,
   "metadata": {},
   "outputs": [],
   "source": [
    "import tweepy #Library required for Twitter API\n",
    "import csv, re\n",
    "import pandas as pd\n",
    "import os\n",
    "import wget\n",
    "import logging"
   ]
  },
  {
   "cell_type": "markdown",
   "metadata": {},
   "source": [
    "### Authentication keys\n",
    "\n",
    "Here we are defining keys to authenticate with twitter API and start calling API functions to extract tweets for our analysis.   \n",
    "\n",
    "You need to register for a Twitter dev account https://developer.twitter.com     \n",
    "\n",
    "Look at the Twitter data model https://developer.twitter.com/en/docs/twitter-api/v1/data-dictionary/object-model/tweet\n",
    "\n",
    "Apply for a Twitter Developer Account\n",
    "\n",
    "Go to the Twitter developer site to apply for a developer account.\n",
    "\n",
    "Step 2: Create an Application\n",
    "\n",
    "Twitter grants authentication credentials to apps, not accounts. An app can be any tool or bot that uses the Twitter API. So you need to register your an app to be able to make API calls.\n",
    "\n",
    "To register your app, go to your Twitter apps page and select the Create an app option.\n",
    "\n",
    "You need to provide the following information about your app and its purpose:\n",
    "\n",
    "App name: a name to identify your application (such as examplebot)\n",
    "Application description: the purpose of your application (such as An example bot for a Real Python article)\n",
    "Your or your application’s website URL: required, but can be your personal site’s URL since bots don’t need a URL to work\n",
    "Use of the app: how users will use your app (such as This app is a bot that will automatically respond to users)\n",
    "Step 3: Create the Authentication Credentials\n",
    "\n",
    "To create the authentication credentials, go to your Twitter apps page. Here’s what the Apps page looks like:\n",
    "\n",
    "Edit app details\n",
    "Here you’ll find the Details button of your app. Clicking this button takes you to the next page, where you can generate the credentials.\n",
    "\n",
    "By selecting the Keys and tokens tab, you can generate and copy the key, token, and secrets to use them in your code:\n",
    "\n",
    "Generate keys and tokens\n",
    "After generating the credentials, save them to later use them in your code.\n",
    "\n",
    "\n",
    "\n"
   ]
  },
  {
   "cell_type": "code",
   "execution_count": 2,
   "metadata": {},
   "outputs": [],
   "source": [
    "consumer_key = \"hlFX43j87dphdCnFdNUuWz5\"\n",
    "consumer_secret = \"q2aE68MxpDS6UfIh0Q9OQMd12T7ci5eT8rGaoJHauEXLPk7\"\n",
    "access_key = \"34749634-MLtSPUGnJfYk2PcGaDm3QxZfEPiJrgc4UwjgCu\"\n",
    "access_secret = \"HXZymUSEauHQkWaKcS4VTgS5zj7RfUcCg7xU9OUXH\""
   ]
  },
  {
   "cell_type": "code",
   "execution_count": 3,
   "metadata": {},
   "outputs": [],
   "source": [
    "#Creating an empty dataframe to store the information\n",
    "tweets =pd.DataFrame(columns=[\"id\",\"created_at\",\"text\",\"media_url\",\"location\"])"
   ]
  },
  {
   "cell_type": "code",
   "execution_count": 4,
   "metadata": {},
   "outputs": [
    {
     "data": {
      "text/plain": [
       "Index(['id', 'created_at', 'text', 'media_url', 'location'], dtype='object')"
      ]
     },
     "execution_count": 4,
     "metadata": {},
     "output_type": "execute_result"
    }
   ],
   "source": [
    "tweets.columns"
   ]
  },
  {
   "cell_type": "markdown",
   "metadata": {},
   "source": [
    "### Extracting Tweets\n",
    "\n",
    "We are using tweepy.cursor method to get all the tweets hashtagged with 'dunkin-donuts', also we are only using the tweets that have an image posted along with it. Since images are core part of our application."
   ]
  },
  {
   "cell_type": "code",
   "execution_count": 5,
   "metadata": {},
   "outputs": [
    {
     "name": "stdout",
     "output_type": "stream",
     "text": [
      "2022-10-22 00:00:00\n"
     ]
    }
   ],
   "source": [
    "import datetime, time\n",
    "last_week = datetime.date.today() - datetime.timedelta(9)\n",
    "since_tweets = datetime.datetime.strptime(time.strftime(\"%Y-%m-%d\"), \"%Y-%m-%d\")\n",
    "print (since_tweets)"
   ]
  },
  {
   "cell_type": "markdown",
   "metadata": {},
   "source": [
    "As we have previously seen, the Twitter API requires that all requests use OAuth to authenticate. So you need to create the required authentication credentials to be able to use the API. These credentials are four text strings:\n",
    "\n",
    "Consumer key\n",
    "Consumer secret\n",
    "Access token\n",
    "Access secret"
   ]
  },
  {
   "cell_type": "code",
   "execution_count": 6,
   "metadata": {},
   "outputs": [
    {
     "name": "stdout",
     "output_type": "stream",
     "text": [
      "Authentication OK\n"
     ]
    }
   ],
   "source": [
    "auth = tweepy.OAuthHandler(consumer_key, consumer_secret)\n",
    "auth.set_access_token(access_key, access_secret)\n",
    "api = tweepy.API(auth,wait_on_rate_limit=True)\n",
    "\n",
    "try:\n",
    "    api.verify_credentials()\n",
    "    print(\"Authentication OK\")\n",
    "except:\n",
    "    print(\"Error during authentication\")"
   ]
  },
  {
   "cell_type": "code",
   "execution_count": 7,
   "metadata": {},
   "outputs": [
    {
     "name": "stdout",
     "output_type": "stream",
     "text": [
      "Larry Sharpe said Had dinner and talked about business, sports and the future of New York with potential supporters at Mo's Bar and G… https://t.co/w7FgGv8Q6R\n",
      "Vermin Supreme (TM) said RT @wonderofscience: Fascinating footage of a human white blood cell chasing a bacterium captured through a microscope. Credit: David Roger…\n",
      "WikiLeaks said Australia's Journalists Union: \"The decision to uphold #Assange extradition imperils journalism everywhere\"… https://t.co/37IukQWDE2\n",
      "Tom Fitton said Biden schooled for equating PPP loans with student loan handout to bash GOP: ‘Policy-illiterate talking point'… https://t.co/t4PEucYDTm\n",
      "Rolling Stone said British-Armenian producer Hagop Tchaparian has been documenting his life, travels, and family history through field… https://t.co/t9hCGrAaVz\n",
      "Cato Institute said RT @HumanProgress: Starlink receivers are highly mobile, weighing just 15 lbs, and the cost of smuggling them into Iran would be relatively…\n",
      "Northeastern Men’s Hockey said Attaboy Ritzy 🚨\n",
      "\n",
      "#HowlinHuskies https://t.co/AdkLLGlnOG\n",
      "lyss said RT @jus_louiie: https://t.co/TcwmI7MfG2\n",
      "Cheng Soon Ong said RT @AustraliaSikh: https://t.co/hg9E6THFbQ\n",
      "Vermin Supreme (TM) said RT @KaeLaniSays: I have never been more inspired by anything than this work of art https://t.co/kxaKzA0Fbw\n",
      "NBA said Cole Anthony picks off a steal and turns defense into offense! #KiaTipOff22\n",
      "\n",
      "Early Q1 on the NBA App 👇… https://t.co/OVgRj1YPsY\n",
      "sciBot 💻 said RT @ankurkumarz: Why not use Apache Skywalking for your APM needs?\n",
      "\n",
      "Glad to hear any interesting rationale.\n",
      "\n",
      "#opensource #APM #observabilit…\n",
      "sciBot 💻 said RT @rob0SS: 🧑‍💻 If you know #JavaScript, you can help the project cauldron with this issue: \"Props table for Layout component docs page \"…\n",
      "sciBot 💻 said RT @unixbhaskar: Well,  today's stat...barred one or two not visible due to lack of screen estate ... looks good :)\n",
      "\n",
      "#linux #kernel #linuxk…\n",
      "sciBot 💻 said RT @vijayankit: I wrote this simple utility years ago, and little did I realize that I would find it helpful still :) #OpenSource #GitHub…\n",
      "sciBot 💻 said RT @FreeCADNews: #FreeCAD #Showcase customizable, 3D-printable pipe cap. Adaptable to fit any pipe size. Easy to mount/dismount via a screw…\n",
      "sciBot 💻 said RT @sir0day: Escapa del software privativo, con licencias que te impiden ser libre. Haz que tu ordenador funcione para ti, no a las necesid…\n",
      "SportsCenter said Vazquez now getting it done at the plate 💪 \n",
      "\n",
      "His 2-run single gives Houston a  5️⃣-0️⃣ lead.\n",
      "\n",
      "(via @MLB)\n",
      "https://t.co/luM4zFNQbI\n",
      "Nick Huber said RT @rasangarocks: Data Archiving \n",
      "\n",
      "Link - https://t.co/XZrJ1LI0H5\n",
      "\n",
      "#100DaysOfCode #CodeNewbies #WomenWhoCode #DevOps #DevOpsCommunity #Codi…\n",
      "Joy Taylor said RT @LSUfootball: ARE YOU NOT ENTERTAINED? https://t.co/0Rp0Ix4FK8\n"
     ]
    }
   ],
   "source": [
    "timeline = api.home_timeline()\n",
    "for tweet in timeline:\n",
    "    print(f\"{tweet.user.name} said {tweet.text}\")"
   ]
  },
  {
   "cell_type": "code",
   "execution_count": 8,
   "metadata": {},
   "outputs": [
    {
     "name": "stdout",
     "output_type": "stream",
     "text": [
      "Most recent tweet: I've always thought spiders shouldn't drink coffee. https://t.co/tXgEi8Dxo6\n"
     ]
    }
   ],
   "source": [
    "user = api.get_user(screen_name=\"NikBearBrown\")\n",
    "print(\"Most recent tweet: \" + user.status.text)"
   ]
  },
  {
   "cell_type": "code",
   "execution_count": 9,
   "metadata": {},
   "outputs": [
    {
     "name": "stdout",
     "output_type": "stream",
     "text": [
      "User details:\n",
      "Nik Bear Brown\n",
      "Northeastern Engineering Associate Teaching Professor - Aspiring TikTok Dancer\n",
      "Pursue it. Relentlessly. #Nerdlife\n",
      "Boston\n",
      "Last 20 Followers:\n",
      "Myah Rowold\n",
      "Skyler Scrimsher\n",
      "Rory Yerka\n",
      "Milly Muir\n",
      "Les Yetton\n",
      "Isabelle Krinke\n",
      "Ora Raheem\n",
      "Esme-rose Mccaslin\n",
      "Debbra Wadas\n",
      "Ella-may Virzi\n",
      "Vilma Rathgeb\n",
      "Madilyn Rueckert\n",
      "Nel Laskin\n",
      "Murron Heinzelman\n",
      "Fallon Poss\n",
      "Loraine Gibbens\n",
      "Teresa Adjutant\n",
      "Myrta Kates\n",
      "Almeda Linquist\n",
      "Dmytro Iakubovskyi\n"
     ]
    }
   ],
   "source": [
    "print(\"User details:\")\n",
    "print(user.name)\n",
    "print(user.description)\n",
    "print(user.location)\n",
    "\n",
    "print(\"Last 20 Followers:\")\n",
    "for follower in user.followers():\n",
    "    print(follower.name)"
   ]
  },
  {
   "cell_type": "code",
   "execution_count": 10,
   "metadata": {},
   "outputs": [
    {
     "name": "stdout",
     "output_type": "stream",
     "text": [
      "2022-10-22 00:00:00\n",
      "KimKardashian kardashian\n",
      "num_tweets  5\n"
     ]
    }
   ],
   "source": [
    "import datetime, time\n",
    "now = datetime.date.today()\n",
    "date_since = datetime.datetime.strptime(time.strftime(\"%Y-%m-%d\"), \"%Y-%m-%d\")\n",
    "print (date_since)\n",
    "keywords=['KimKardashian', 'kardashian']\n",
    "print (' '.join(keywords))\n",
    "num_tweets=5\n",
    "print (\"num_tweets \", num_tweets)"
   ]
  },
  {
   "cell_type": "code",
   "execution_count": 11,
   "metadata": {},
   "outputs": [],
   "source": [
    "new_search = \"kim+kardashian -filter:retweets\""
   ]
  },
  {
   "cell_type": "code",
   "execution_count": 12,
   "metadata": {},
   "outputs": [],
   "source": [
    "# https://developer.twitter.com/en/docs/twitter-api/v1/tweets/search/api-reference/get-search-tweets\n",
    "# https://docs.tweepy.org/en/stable/api.html#search-tweets\n",
    "tweets = tweepy.Cursor(api.search_tweets,\n",
    "              q=new_search,\n",
    "              lang=\"en\",\n",
    "              until=date_since).items(num_tweets)"
   ]
  },
  {
   "cell_type": "code",
   "execution_count": 13,
   "metadata": {},
   "outputs": [
    {
     "name": "stdout",
     "output_type": "stream",
     "text": [
      "0\n",
      "Status(_api=None, _json={'created_at': 'Fri Oct 21 15:21:39 +0000 2022', 'id': 1583478629308456962, 'id_str': '1583478629308456962', 'text': '@YouTube &amp; other online \"influencers\" are to the past decade what Kim Kardashian, Paris Hilton &amp; other brainless ta… https://t.co/ExvVAPH2lm', 'truncated': True, 'entities': {'hashtags': [], 'symbols': [], 'user_mentions': [{'screen_name': 'YouTube', 'name': 'YouTube', 'id': 10228272, 'id_str': '10228272', 'indices': [0, 8]}], 'urls': [{'url': 'https://t.co/ExvVAPH2lm', 'expanded_url': 'https://twitter.com/i/web/status/1583478629308456962', 'display_url': 'twitter.com/i/web/status/1…', 'indices': [125, 148]}]}, 'metadata': {'iso_language_code': 'en', 'result_type': 'recent'}, 'source': '<a href=\"https://mobile.twitter.com\" rel=\"nofollow\">Twitter Web App</a>', 'in_reply_to_status_id': None, 'in_reply_to_status_id_str': None, 'in_reply_to_user_id': 10228272, 'in_reply_to_user_id_str': '10228272', 'in_reply_to_screen_name': 'YouTube', 'user': {'id': 463819805, 'id_str': '463819805', 'name': 'aaron krohn', 'screen_name': 'aaronkrohn1', 'location': 'By Bellingham Bay', 'description': \"Long time runner & writer. Blogger (AaronK's Track and Field Record Book and My Cultural World) Always quoting @BobDylan T&F is my BFF!  http://t.co/PqirN0EYtE\", 'url': None, 'entities': {'description': {'urls': [{'url': 'http://t.co/PqirN0EYtE', 'expanded_url': 'http://trackingtherecords.blogspot.com/2013/12track-and-field-record-book', 'display_url': 'trackingtherecords.blogspot.com/2013/12track-a…', 'indices': [137, 159]}]}}, 'protected': False, 'followers_count': 399, 'friends_count': 1706, 'listed_count': 12, 'created_at': 'Sat Jan 14 14:27:55 +0000 2012', 'favourites_count': 24179, 'utc_offset': None, 'time_zone': None, 'geo_enabled': True, 'verified': False, 'statuses_count': 25272, 'lang': None, 'contributors_enabled': False, 'is_translator': False, 'is_translation_enabled': False, 'profile_background_color': 'C0DEED', 'profile_background_image_url': 'http://abs.twimg.com/images/themes/theme1/bg.png', 'profile_background_image_url_https': 'https://abs.twimg.com/images/themes/theme1/bg.png', 'profile_background_tile': False, 'profile_image_url': 'http://pbs.twimg.com/profile_images/3629166047/2560d9b1764db341a73bceae4ff42e55_normal.png', 'profile_image_url_https': 'https://pbs.twimg.com/profile_images/3629166047/2560d9b1764db341a73bceae4ff42e55_normal.png', 'profile_link_color': '1DA1F2', 'profile_sidebar_border_color': 'C0DEED', 'profile_sidebar_fill_color': 'DDEEF6', 'profile_text_color': '333333', 'profile_use_background_image': True, 'has_extended_profile': False, 'default_profile': True, 'default_profile_image': False, 'following': False, 'follow_request_sent': False, 'notifications': False, 'translator_type': 'none', 'withheld_in_countries': []}, 'geo': None, 'coordinates': None, 'place': None, 'contributors': None, 'is_quote_status': False, 'retweet_count': 0, 'favorite_count': 0, 'favorited': False, 'retweeted': False, 'lang': 'en'}, created_at=datetime.datetime(2022, 10, 21, 15, 21, 39, tzinfo=datetime.timezone.utc), id=1583478629308456962, id_str='1583478629308456962', text='@YouTube &amp; other online \"influencers\" are to the past decade what Kim Kardashian, Paris Hilton &amp; other brainless ta… https://t.co/ExvVAPH2lm', truncated=True, entities={'hashtags': [], 'symbols': [], 'user_mentions': [{'screen_name': 'YouTube', 'name': 'YouTube', 'id': 10228272, 'id_str': '10228272', 'indices': [0, 8]}], 'urls': [{'url': 'https://t.co/ExvVAPH2lm', 'expanded_url': 'https://twitter.com/i/web/status/1583478629308456962', 'display_url': 'twitter.com/i/web/status/1…', 'indices': [125, 148]}]}, metadata={'iso_language_code': 'en', 'result_type': 'recent'}, source='Twitter Web App', source_url='https://mobile.twitter.com', in_reply_to_status_id=None, in_reply_to_status_id_str=None, in_reply_to_user_id=10228272, in_reply_to_user_id_str='10228272', in_reply_to_screen_name='YouTube', author=User(_api=None, _json={'id': 463819805, 'id_str': '463819805', 'name': 'aaron krohn', 'screen_name': 'aaronkrohn1', 'location': 'By Bellingham Bay', 'description': \"Long time runner & writer. Blogger (AaronK's Track and Field Record Book and My Cultural World) Always quoting @BobDylan T&F is my BFF!  http://t.co/PqirN0EYtE\", 'url': None, 'entities': {'description': {'urls': [{'url': 'http://t.co/PqirN0EYtE', 'expanded_url': 'http://trackingtherecords.blogspot.com/2013/12track-and-field-record-book', 'display_url': 'trackingtherecords.blogspot.com/2013/12track-a…', 'indices': [137, 159]}]}}, 'protected': False, 'followers_count': 399, 'friends_count': 1706, 'listed_count': 12, 'created_at': 'Sat Jan 14 14:27:55 +0000 2012', 'favourites_count': 24179, 'utc_offset': None, 'time_zone': None, 'geo_enabled': True, 'verified': False, 'statuses_count': 25272, 'lang': None, 'contributors_enabled': False, 'is_translator': False, 'is_translation_enabled': False, 'profile_background_color': 'C0DEED', 'profile_background_image_url': 'http://abs.twimg.com/images/themes/theme1/bg.png', 'profile_background_image_url_https': 'https://abs.twimg.com/images/themes/theme1/bg.png', 'profile_background_tile': False, 'profile_image_url': 'http://pbs.twimg.com/profile_images/3629166047/2560d9b1764db341a73bceae4ff42e55_normal.png', 'profile_image_url_https': 'https://pbs.twimg.com/profile_images/3629166047/2560d9b1764db341a73bceae4ff42e55_normal.png', 'profile_link_color': '1DA1F2', 'profile_sidebar_border_color': 'C0DEED', 'profile_sidebar_fill_color': 'DDEEF6', 'profile_text_color': '333333', 'profile_use_background_image': True, 'has_extended_profile': False, 'default_profile': True, 'default_profile_image': False, 'following': False, 'follow_request_sent': False, 'notifications': False, 'translator_type': 'none', 'withheld_in_countries': []}, id=463819805, id_str='463819805', name='aaron krohn', screen_name='aaronkrohn1', location='By Bellingham Bay', description=\"Long time runner & writer. Blogger (AaronK's Track and Field Record Book and My Cultural World) Always quoting @BobDylan T&F is my BFF!  http://t.co/PqirN0EYtE\", url=None, entities={'description': {'urls': [{'url': 'http://t.co/PqirN0EYtE', 'expanded_url': 'http://trackingtherecords.blogspot.com/2013/12track-and-field-record-book', 'display_url': 'trackingtherecords.blogspot.com/2013/12track-a…', 'indices': [137, 159]}]}}, protected=False, followers_count=399, friends_count=1706, listed_count=12, created_at=datetime.datetime(2012, 1, 14, 14, 27, 55, tzinfo=datetime.timezone.utc), favourites_count=24179, utc_offset=None, time_zone=None, geo_enabled=True, verified=False, statuses_count=25272, lang=None, contributors_enabled=False, is_translator=False, is_translation_enabled=False, profile_background_color='C0DEED', profile_background_image_url='http://abs.twimg.com/images/themes/theme1/bg.png', profile_background_image_url_https='https://abs.twimg.com/images/themes/theme1/bg.png', profile_background_tile=False, profile_image_url='http://pbs.twimg.com/profile_images/3629166047/2560d9b1764db341a73bceae4ff42e55_normal.png', profile_image_url_https='https://pbs.twimg.com/profile_images/3629166047/2560d9b1764db341a73bceae4ff42e55_normal.png', profile_link_color='1DA1F2', profile_sidebar_border_color='C0DEED', profile_sidebar_fill_color='DDEEF6', profile_text_color='333333', profile_use_background_image=True, has_extended_profile=False, default_profile=True, default_profile_image=False, following=False, follow_request_sent=False, notifications=False, translator_type='none', withheld_in_countries=[]), user=User(_api=None, _json={'id': 463819805, 'id_str': '463819805', 'name': 'aaron krohn', 'screen_name': 'aaronkrohn1', 'location': 'By Bellingham Bay', 'description': \"Long time runner & writer. Blogger (AaronK's Track and Field Record Book and My Cultural World) Always quoting @BobDylan T&F is my BFF!  http://t.co/PqirN0EYtE\", 'url': None, 'entities': {'description': {'urls': [{'url': 'http://t.co/PqirN0EYtE', 'expanded_url': 'http://trackingtherecords.blogspot.com/2013/12track-and-field-record-book', 'display_url': 'trackingtherecords.blogspot.com/2013/12track-a…', 'indices': [137, 159]}]}}, 'protected': False, 'followers_count': 399, 'friends_count': 1706, 'listed_count': 12, 'created_at': 'Sat Jan 14 14:27:55 +0000 2012', 'favourites_count': 24179, 'utc_offset': None, 'time_zone': None, 'geo_enabled': True, 'verified': False, 'statuses_count': 25272, 'lang': None, 'contributors_enabled': False, 'is_translator': False, 'is_translation_enabled': False, 'profile_background_color': 'C0DEED', 'profile_background_image_url': 'http://abs.twimg.com/images/themes/theme1/bg.png', 'profile_background_image_url_https': 'https://abs.twimg.com/images/themes/theme1/bg.png', 'profile_background_tile': False, 'profile_image_url': 'http://pbs.twimg.com/profile_images/3629166047/2560d9b1764db341a73bceae4ff42e55_normal.png', 'profile_image_url_https': 'https://pbs.twimg.com/profile_images/3629166047/2560d9b1764db341a73bceae4ff42e55_normal.png', 'profile_link_color': '1DA1F2', 'profile_sidebar_border_color': 'C0DEED', 'profile_sidebar_fill_color': 'DDEEF6', 'profile_text_color': '333333', 'profile_use_background_image': True, 'has_extended_profile': False, 'default_profile': True, 'default_profile_image': False, 'following': False, 'follow_request_sent': False, 'notifications': False, 'translator_type': 'none', 'withheld_in_countries': []}, id=463819805, id_str='463819805', name='aaron krohn', screen_name='aaronkrohn1', location='By Bellingham Bay', description=\"Long time runner & writer. Blogger (AaronK's Track and Field Record Book and My Cultural World) Always quoting @BobDylan T&F is my BFF!  http://t.co/PqirN0EYtE\", url=None, entities={'description': {'urls': [{'url': 'http://t.co/PqirN0EYtE', 'expanded_url': 'http://trackingtherecords.blogspot.com/2013/12track-and-field-record-book', 'display_url': 'trackingtherecords.blogspot.com/2013/12track-a…', 'indices': [137, 159]}]}}, protected=False, followers_count=399, friends_count=1706, listed_count=12, created_at=datetime.datetime(2012, 1, 14, 14, 27, 55, tzinfo=datetime.timezone.utc), favourites_count=24179, utc_offset=None, time_zone=None, geo_enabled=True, verified=False, statuses_count=25272, lang=None, contributors_enabled=False, is_translator=False, is_translation_enabled=False, profile_background_color='C0DEED', profile_background_image_url='http://abs.twimg.com/images/themes/theme1/bg.png', profile_background_image_url_https='https://abs.twimg.com/images/themes/theme1/bg.png', profile_background_tile=False, profile_image_url='http://pbs.twimg.com/profile_images/3629166047/2560d9b1764db341a73bceae4ff42e55_normal.png', profile_image_url_https='https://pbs.twimg.com/profile_images/3629166047/2560d9b1764db341a73bceae4ff42e55_normal.png', profile_link_color='1DA1F2', profile_sidebar_border_color='C0DEED', profile_sidebar_fill_color='DDEEF6', profile_text_color='333333', profile_use_background_image=True, has_extended_profile=False, default_profile=True, default_profile_image=False, following=False, follow_request_sent=False, notifications=False, translator_type='none', withheld_in_countries=[]), geo=None, coordinates=None, place=None, contributors=None, is_quote_status=False, retweet_count=0, favorite_count=0, favorited=False, retweeted=False, lang='en')\n",
      "1\n",
      "Status(_api=None, _json={'created_at': 'Thu Oct 20 04:26:23 +0000 2022', 'id': 1582951338085859328, 'id_str': '1582951338085859328', 'text': 'Whatsup about... (Kim Kardashian Gets Candid About Body Image, Breaks Down Her Photo Editingon 20. October 2022 at… https://t.co/42WLcziGwB', 'truncated': True, 'entities': {'hashtags': [], 'symbols': [], 'user_mentions': [], 'urls': [{'url': 'https://t.co/42WLcziGwB', 'expanded_url': 'https://twitter.com/i/web/status/1582951338085859328', 'display_url': 'twitter.com/i/web/status/1…', 'indices': [116, 139]}]}, 'metadata': {'iso_language_code': 'en', 'result_type': 'recent'}, 'source': '<a href=\"https://jameslion.com\" rel=\"nofollow\">What´s up about...</a>', 'in_reply_to_status_id': None, 'in_reply_to_status_id_str': None, 'in_reply_to_user_id': None, 'in_reply_to_user_id_str': None, 'in_reply_to_screen_name': None, 'user': {'id': 43948964, 'id_str': '43948964', 'name': 'Alexander', 'screen_name': 'ATGBrokers', 'location': 'on Earth! ', 'description': 'ATGBrokers Group,\\n( Founder/Owner )\\n\\nBreaking News from newspapers worldwide! \\nNews and Community from https://t.co/8oeJxysdAm. \\nNews and Celebrities from https://t.co/OOAXbkXKhZ', 'url': 'https://t.co/Ol7Q4GkMn8', 'entities': {'url': {'urls': [{'url': 'https://t.co/Ol7Q4GkMn8', 'expanded_url': 'https://www.atgbrokers.eu', 'display_url': 'atgbrokers.eu', 'indices': [0, 23]}]}, 'description': {'urls': [{'url': 'https://t.co/8oeJxysdAm', 'expanded_url': 'http://my24group.com', 'display_url': 'my24group.com', 'indices': [103, 126]}, {'url': 'https://t.co/OOAXbkXKhZ', 'expanded_url': 'http://Jameslion.com', 'display_url': 'Jameslion.com', 'indices': [155, 178]}]}}, 'protected': False, 'followers_count': 127, 'friends_count': 256, 'listed_count': 3, 'created_at': 'Mon Jun 01 19:16:20 +0000 2009', 'favourites_count': 330, 'utc_offset': None, 'time_zone': None, 'geo_enabled': False, 'verified': False, 'statuses_count': 485561, 'lang': None, 'contributors_enabled': False, 'is_translator': False, 'is_translation_enabled': False, 'profile_background_color': '0099B9', 'profile_background_image_url': 'http://abs.twimg.com/images/themes/theme4/bg.gif', 'profile_background_image_url_https': 'https://abs.twimg.com/images/themes/theme4/bg.gif', 'profile_background_tile': False, 'profile_image_url': 'http://pbs.twimg.com/profile_images/1266583629255319554/VM4NyOH7_normal.jpg', 'profile_image_url_https': 'https://pbs.twimg.com/profile_images/1266583629255319554/VM4NyOH7_normal.jpg', 'profile_banner_url': 'https://pbs.twimg.com/profile_banners/43948964/1590909640', 'profile_link_color': '0099B9', 'profile_sidebar_border_color': '5ED4DC', 'profile_sidebar_fill_color': '95E8EC', 'profile_text_color': '3C3940', 'profile_use_background_image': True, 'has_extended_profile': True, 'default_profile': False, 'default_profile_image': False, 'following': False, 'follow_request_sent': False, 'notifications': False, 'translator_type': 'none', 'withheld_in_countries': []}, 'geo': None, 'coordinates': None, 'place': None, 'contributors': None, 'is_quote_status': False, 'retweet_count': 0, 'favorite_count': 0, 'favorited': False, 'retweeted': False, 'possibly_sensitive': False, 'lang': 'en'}, created_at=datetime.datetime(2022, 10, 20, 4, 26, 23, tzinfo=datetime.timezone.utc), id=1582951338085859328, id_str='1582951338085859328', text='Whatsup about... (Kim Kardashian Gets Candid About Body Image, Breaks Down Her Photo Editingon 20. October 2022 at… https://t.co/42WLcziGwB', truncated=True, entities={'hashtags': [], 'symbols': [], 'user_mentions': [], 'urls': [{'url': 'https://t.co/42WLcziGwB', 'expanded_url': 'https://twitter.com/i/web/status/1582951338085859328', 'display_url': 'twitter.com/i/web/status/1…', 'indices': [116, 139]}]}, metadata={'iso_language_code': 'en', 'result_type': 'recent'}, source='What´s up about...', source_url='https://jameslion.com', in_reply_to_status_id=None, in_reply_to_status_id_str=None, in_reply_to_user_id=None, in_reply_to_user_id_str=None, in_reply_to_screen_name=None, author=User(_api=None, _json={'id': 43948964, 'id_str': '43948964', 'name': 'Alexander', 'screen_name': 'ATGBrokers', 'location': 'on Earth! ', 'description': 'ATGBrokers Group,\\n( Founder/Owner )\\n\\nBreaking News from newspapers worldwide! \\nNews and Community from https://t.co/8oeJxysdAm. \\nNews and Celebrities from https://t.co/OOAXbkXKhZ', 'url': 'https://t.co/Ol7Q4GkMn8', 'entities': {'url': {'urls': [{'url': 'https://t.co/Ol7Q4GkMn8', 'expanded_url': 'https://www.atgbrokers.eu', 'display_url': 'atgbrokers.eu', 'indices': [0, 23]}]}, 'description': {'urls': [{'url': 'https://t.co/8oeJxysdAm', 'expanded_url': 'http://my24group.com', 'display_url': 'my24group.com', 'indices': [103, 126]}, {'url': 'https://t.co/OOAXbkXKhZ', 'expanded_url': 'http://Jameslion.com', 'display_url': 'Jameslion.com', 'indices': [155, 178]}]}}, 'protected': False, 'followers_count': 127, 'friends_count': 256, 'listed_count': 3, 'created_at': 'Mon Jun 01 19:16:20 +0000 2009', 'favourites_count': 330, 'utc_offset': None, 'time_zone': None, 'geo_enabled': False, 'verified': False, 'statuses_count': 485561, 'lang': None, 'contributors_enabled': False, 'is_translator': False, 'is_translation_enabled': False, 'profile_background_color': '0099B9', 'profile_background_image_url': 'http://abs.twimg.com/images/themes/theme4/bg.gif', 'profile_background_image_url_https': 'https://abs.twimg.com/images/themes/theme4/bg.gif', 'profile_background_tile': False, 'profile_image_url': 'http://pbs.twimg.com/profile_images/1266583629255319554/VM4NyOH7_normal.jpg', 'profile_image_url_https': 'https://pbs.twimg.com/profile_images/1266583629255319554/VM4NyOH7_normal.jpg', 'profile_banner_url': 'https://pbs.twimg.com/profile_banners/43948964/1590909640', 'profile_link_color': '0099B9', 'profile_sidebar_border_color': '5ED4DC', 'profile_sidebar_fill_color': '95E8EC', 'profile_text_color': '3C3940', 'profile_use_background_image': True, 'has_extended_profile': True, 'default_profile': False, 'default_profile_image': False, 'following': False, 'follow_request_sent': False, 'notifications': False, 'translator_type': 'none', 'withheld_in_countries': []}, id=43948964, id_str='43948964', name='Alexander', screen_name='ATGBrokers', location='on Earth! ', description='ATGBrokers Group,\\n( Founder/Owner )\\n\\nBreaking News from newspapers worldwide! \\nNews and Community from https://t.co/8oeJxysdAm. \\nNews and Celebrities from https://t.co/OOAXbkXKhZ', url='https://t.co/Ol7Q4GkMn8', entities={'url': {'urls': [{'url': 'https://t.co/Ol7Q4GkMn8', 'expanded_url': 'https://www.atgbrokers.eu', 'display_url': 'atgbrokers.eu', 'indices': [0, 23]}]}, 'description': {'urls': [{'url': 'https://t.co/8oeJxysdAm', 'expanded_url': 'http://my24group.com', 'display_url': 'my24group.com', 'indices': [103, 126]}, {'url': 'https://t.co/OOAXbkXKhZ', 'expanded_url': 'http://Jameslion.com', 'display_url': 'Jameslion.com', 'indices': [155, 178]}]}}, protected=False, followers_count=127, friends_count=256, listed_count=3, created_at=datetime.datetime(2009, 6, 1, 19, 16, 20, tzinfo=datetime.timezone.utc), favourites_count=330, utc_offset=None, time_zone=None, geo_enabled=False, verified=False, statuses_count=485561, lang=None, contributors_enabled=False, is_translator=False, is_translation_enabled=False, profile_background_color='0099B9', profile_background_image_url='http://abs.twimg.com/images/themes/theme4/bg.gif', profile_background_image_url_https='https://abs.twimg.com/images/themes/theme4/bg.gif', profile_background_tile=False, profile_image_url='http://pbs.twimg.com/profile_images/1266583629255319554/VM4NyOH7_normal.jpg', profile_image_url_https='https://pbs.twimg.com/profile_images/1266583629255319554/VM4NyOH7_normal.jpg', profile_banner_url='https://pbs.twimg.com/profile_banners/43948964/1590909640', profile_link_color='0099B9', profile_sidebar_border_color='5ED4DC', profile_sidebar_fill_color='95E8EC', profile_text_color='3C3940', profile_use_background_image=True, has_extended_profile=True, default_profile=False, default_profile_image=False, following=False, follow_request_sent=False, notifications=False, translator_type='none', withheld_in_countries=[]), user=User(_api=None, _json={'id': 43948964, 'id_str': '43948964', 'name': 'Alexander', 'screen_name': 'ATGBrokers', 'location': 'on Earth! ', 'description': 'ATGBrokers Group,\\n( Founder/Owner )\\n\\nBreaking News from newspapers worldwide! \\nNews and Community from https://t.co/8oeJxysdAm. \\nNews and Celebrities from https://t.co/OOAXbkXKhZ', 'url': 'https://t.co/Ol7Q4GkMn8', 'entities': {'url': {'urls': [{'url': 'https://t.co/Ol7Q4GkMn8', 'expanded_url': 'https://www.atgbrokers.eu', 'display_url': 'atgbrokers.eu', 'indices': [0, 23]}]}, 'description': {'urls': [{'url': 'https://t.co/8oeJxysdAm', 'expanded_url': 'http://my24group.com', 'display_url': 'my24group.com', 'indices': [103, 126]}, {'url': 'https://t.co/OOAXbkXKhZ', 'expanded_url': 'http://Jameslion.com', 'display_url': 'Jameslion.com', 'indices': [155, 178]}]}}, 'protected': False, 'followers_count': 127, 'friends_count': 256, 'listed_count': 3, 'created_at': 'Mon Jun 01 19:16:20 +0000 2009', 'favourites_count': 330, 'utc_offset': None, 'time_zone': None, 'geo_enabled': False, 'verified': False, 'statuses_count': 485561, 'lang': None, 'contributors_enabled': False, 'is_translator': False, 'is_translation_enabled': False, 'profile_background_color': '0099B9', 'profile_background_image_url': 'http://abs.twimg.com/images/themes/theme4/bg.gif', 'profile_background_image_url_https': 'https://abs.twimg.com/images/themes/theme4/bg.gif', 'profile_background_tile': False, 'profile_image_url': 'http://pbs.twimg.com/profile_images/1266583629255319554/VM4NyOH7_normal.jpg', 'profile_image_url_https': 'https://pbs.twimg.com/profile_images/1266583629255319554/VM4NyOH7_normal.jpg', 'profile_banner_url': 'https://pbs.twimg.com/profile_banners/43948964/1590909640', 'profile_link_color': '0099B9', 'profile_sidebar_border_color': '5ED4DC', 'profile_sidebar_fill_color': '95E8EC', 'profile_text_color': '3C3940', 'profile_use_background_image': True, 'has_extended_profile': True, 'default_profile': False, 'default_profile_image': False, 'following': False, 'follow_request_sent': False, 'notifications': False, 'translator_type': 'none', 'withheld_in_countries': []}, id=43948964, id_str='43948964', name='Alexander', screen_name='ATGBrokers', location='on Earth! ', description='ATGBrokers Group,\\n( Founder/Owner )\\n\\nBreaking News from newspapers worldwide! \\nNews and Community from https://t.co/8oeJxysdAm. \\nNews and Celebrities from https://t.co/OOAXbkXKhZ', url='https://t.co/Ol7Q4GkMn8', entities={'url': {'urls': [{'url': 'https://t.co/Ol7Q4GkMn8', 'expanded_url': 'https://www.atgbrokers.eu', 'display_url': 'atgbrokers.eu', 'indices': [0, 23]}]}, 'description': {'urls': [{'url': 'https://t.co/8oeJxysdAm', 'expanded_url': 'http://my24group.com', 'display_url': 'my24group.com', 'indices': [103, 126]}, {'url': 'https://t.co/OOAXbkXKhZ', 'expanded_url': 'http://Jameslion.com', 'display_url': 'Jameslion.com', 'indices': [155, 178]}]}}, protected=False, followers_count=127, friends_count=256, listed_count=3, created_at=datetime.datetime(2009, 6, 1, 19, 16, 20, tzinfo=datetime.timezone.utc), favourites_count=330, utc_offset=None, time_zone=None, geo_enabled=False, verified=False, statuses_count=485561, lang=None, contributors_enabled=False, is_translator=False, is_translation_enabled=False, profile_background_color='0099B9', profile_background_image_url='http://abs.twimg.com/images/themes/theme4/bg.gif', profile_background_image_url_https='https://abs.twimg.com/images/themes/theme4/bg.gif', profile_background_tile=False, profile_image_url='http://pbs.twimg.com/profile_images/1266583629255319554/VM4NyOH7_normal.jpg', profile_image_url_https='https://pbs.twimg.com/profile_images/1266583629255319554/VM4NyOH7_normal.jpg', profile_banner_url='https://pbs.twimg.com/profile_banners/43948964/1590909640', profile_link_color='0099B9', profile_sidebar_border_color='5ED4DC', profile_sidebar_fill_color='95E8EC', profile_text_color='3C3940', profile_use_background_image=True, has_extended_profile=True, default_profile=False, default_profile_image=False, following=False, follow_request_sent=False, notifications=False, translator_type='none', withheld_in_countries=[]), geo=None, coordinates=None, place=None, contributors=None, is_quote_status=False, retweet_count=0, favorite_count=0, favorited=False, retweeted=False, possibly_sensitive=False, lang='en')\n",
      "2\n",
      "Status(_api=None, _json={'created_at': 'Mon Oct 17 17:00:02 +0000 2022', 'id': 1582053837518651394, 'id_str': '1582053837518651394', 'text': '🛑 CAUTION 🛑\\n\\nKim Kardashian Coin ( $KKC / WETH)\\nToken contract:\\n0x1beE2C11B71f53F71629279823c6ff8AEeF94F1E\\n98.90% l… https://t.co/eWT5PXIRh8', 'truncated': True, 'entities': {'hashtags': [], 'symbols': [{'text': 'KKC', 'indices': [35, 39]}], 'user_mentions': [], 'urls': [{'url': 'https://t.co/eWT5PXIRh8', 'expanded_url': 'https://twitter.com/i/web/status/1582053837518651394', 'display_url': 'twitter.com/i/web/status/1…', 'indices': [117, 140]}]}, 'metadata': {'iso_language_code': 'en', 'result_type': 'recent'}, 'source': '<a href=\"https://localhost.home\" rel=\"nofollow\">EtherCheckerApp</a>', 'in_reply_to_status_id': None, 'in_reply_to_status_id_str': None, 'in_reply_to_user_id': None, 'in_reply_to_user_id_str': None, 'in_reply_to_screen_name': None, 'user': {'id': 1512376210441084932, 'id_str': '1512376210441084932', 'name': 'Ether Checker', 'screen_name': 'EtherChecker', 'location': 'EtherScan', 'description': 'I check ETH tokens and I will share my findings with you.\\n\\nERC-20 donation address:\\n\\n0xfA6BFa93deA782F1452eB43CBB2841425b10c3c8\\n\\nTelegram: https://t.co/oksSmlXgUK', 'url': None, 'entities': {'description': {'urls': [{'url': 'https://t.co/oksSmlXgUK', 'expanded_url': 'http://t.me/Ether_Checker', 'display_url': 't.me/Ether_Checker', 'indices': [139, 162]}]}}, 'protected': False, 'followers_count': 1158, 'friends_count': 10, 'listed_count': 20, 'created_at': 'Fri Apr 08 10:26:25 +0000 2022', 'favourites_count': 122, 'utc_offset': None, 'time_zone': None, 'geo_enabled': False, 'verified': False, 'statuses_count': 33221, 'lang': None, 'contributors_enabled': False, 'is_translator': False, 'is_translation_enabled': False, 'profile_background_color': 'F5F8FA', 'profile_background_image_url': None, 'profile_background_image_url_https': None, 'profile_background_tile': False, 'profile_image_url': 'http://pbs.twimg.com/profile_images/1532728210756182025/HRNUHAGY_normal.jpg', 'profile_image_url_https': 'https://pbs.twimg.com/profile_images/1532728210756182025/HRNUHAGY_normal.jpg', 'profile_banner_url': 'https://pbs.twimg.com/profile_banners/1512376210441084932/1649413910', 'profile_link_color': '1DA1F2', 'profile_sidebar_border_color': 'C0DEED', 'profile_sidebar_fill_color': 'DDEEF6', 'profile_text_color': '333333', 'profile_use_background_image': True, 'has_extended_profile': True, 'default_profile': True, 'default_profile_image': False, 'following': False, 'follow_request_sent': False, 'notifications': False, 'translator_type': 'none', 'withheld_in_countries': []}, 'geo': None, 'coordinates': None, 'place': None, 'contributors': None, 'is_quote_status': False, 'retweet_count': 0, 'favorite_count': 0, 'favorited': False, 'retweeted': False, 'lang': 'en'}, created_at=datetime.datetime(2022, 10, 17, 17, 0, 2, tzinfo=datetime.timezone.utc), id=1582053837518651394, id_str='1582053837518651394', text='🛑 CAUTION 🛑\\n\\nKim Kardashian Coin ( $KKC / WETH)\\nToken contract:\\n0x1beE2C11B71f53F71629279823c6ff8AEeF94F1E\\n98.90% l… https://t.co/eWT5PXIRh8', truncated=True, entities={'hashtags': [], 'symbols': [{'text': 'KKC', 'indices': [35, 39]}], 'user_mentions': [], 'urls': [{'url': 'https://t.co/eWT5PXIRh8', 'expanded_url': 'https://twitter.com/i/web/status/1582053837518651394', 'display_url': 'twitter.com/i/web/status/1…', 'indices': [117, 140]}]}, metadata={'iso_language_code': 'en', 'result_type': 'recent'}, source='EtherCheckerApp', source_url='https://localhost.home', in_reply_to_status_id=None, in_reply_to_status_id_str=None, in_reply_to_user_id=None, in_reply_to_user_id_str=None, in_reply_to_screen_name=None, author=User(_api=None, _json={'id': 1512376210441084932, 'id_str': '1512376210441084932', 'name': 'Ether Checker', 'screen_name': 'EtherChecker', 'location': 'EtherScan', 'description': 'I check ETH tokens and I will share my findings with you.\\n\\nERC-20 donation address:\\n\\n0xfA6BFa93deA782F1452eB43CBB2841425b10c3c8\\n\\nTelegram: https://t.co/oksSmlXgUK', 'url': None, 'entities': {'description': {'urls': [{'url': 'https://t.co/oksSmlXgUK', 'expanded_url': 'http://t.me/Ether_Checker', 'display_url': 't.me/Ether_Checker', 'indices': [139, 162]}]}}, 'protected': False, 'followers_count': 1158, 'friends_count': 10, 'listed_count': 20, 'created_at': 'Fri Apr 08 10:26:25 +0000 2022', 'favourites_count': 122, 'utc_offset': None, 'time_zone': None, 'geo_enabled': False, 'verified': False, 'statuses_count': 33221, 'lang': None, 'contributors_enabled': False, 'is_translator': False, 'is_translation_enabled': False, 'profile_background_color': 'F5F8FA', 'profile_background_image_url': None, 'profile_background_image_url_https': None, 'profile_background_tile': False, 'profile_image_url': 'http://pbs.twimg.com/profile_images/1532728210756182025/HRNUHAGY_normal.jpg', 'profile_image_url_https': 'https://pbs.twimg.com/profile_images/1532728210756182025/HRNUHAGY_normal.jpg', 'profile_banner_url': 'https://pbs.twimg.com/profile_banners/1512376210441084932/1649413910', 'profile_link_color': '1DA1F2', 'profile_sidebar_border_color': 'C0DEED', 'profile_sidebar_fill_color': 'DDEEF6', 'profile_text_color': '333333', 'profile_use_background_image': True, 'has_extended_profile': True, 'default_profile': True, 'default_profile_image': False, 'following': False, 'follow_request_sent': False, 'notifications': False, 'translator_type': 'none', 'withheld_in_countries': []}, id=1512376210441084932, id_str='1512376210441084932', name='Ether Checker', screen_name='EtherChecker', location='EtherScan', description='I check ETH tokens and I will share my findings with you.\\n\\nERC-20 donation address:\\n\\n0xfA6BFa93deA782F1452eB43CBB2841425b10c3c8\\n\\nTelegram: https://t.co/oksSmlXgUK', url=None, entities={'description': {'urls': [{'url': 'https://t.co/oksSmlXgUK', 'expanded_url': 'http://t.me/Ether_Checker', 'display_url': 't.me/Ether_Checker', 'indices': [139, 162]}]}}, protected=False, followers_count=1158, friends_count=10, listed_count=20, created_at=datetime.datetime(2022, 4, 8, 10, 26, 25, tzinfo=datetime.timezone.utc), favourites_count=122, utc_offset=None, time_zone=None, geo_enabled=False, verified=False, statuses_count=33221, lang=None, contributors_enabled=False, is_translator=False, is_translation_enabled=False, profile_background_color='F5F8FA', profile_background_image_url=None, profile_background_image_url_https=None, profile_background_tile=False, profile_image_url='http://pbs.twimg.com/profile_images/1532728210756182025/HRNUHAGY_normal.jpg', profile_image_url_https='https://pbs.twimg.com/profile_images/1532728210756182025/HRNUHAGY_normal.jpg', profile_banner_url='https://pbs.twimg.com/profile_banners/1512376210441084932/1649413910', profile_link_color='1DA1F2', profile_sidebar_border_color='C0DEED', profile_sidebar_fill_color='DDEEF6', profile_text_color='333333', profile_use_background_image=True, has_extended_profile=True, default_profile=True, default_profile_image=False, following=False, follow_request_sent=False, notifications=False, translator_type='none', withheld_in_countries=[]), user=User(_api=None, _json={'id': 1512376210441084932, 'id_str': '1512376210441084932', 'name': 'Ether Checker', 'screen_name': 'EtherChecker', 'location': 'EtherScan', 'description': 'I check ETH tokens and I will share my findings with you.\\n\\nERC-20 donation address:\\n\\n0xfA6BFa93deA782F1452eB43CBB2841425b10c3c8\\n\\nTelegram: https://t.co/oksSmlXgUK', 'url': None, 'entities': {'description': {'urls': [{'url': 'https://t.co/oksSmlXgUK', 'expanded_url': 'http://t.me/Ether_Checker', 'display_url': 't.me/Ether_Checker', 'indices': [139, 162]}]}}, 'protected': False, 'followers_count': 1158, 'friends_count': 10, 'listed_count': 20, 'created_at': 'Fri Apr 08 10:26:25 +0000 2022', 'favourites_count': 122, 'utc_offset': None, 'time_zone': None, 'geo_enabled': False, 'verified': False, 'statuses_count': 33221, 'lang': None, 'contributors_enabled': False, 'is_translator': False, 'is_translation_enabled': False, 'profile_background_color': 'F5F8FA', 'profile_background_image_url': None, 'profile_background_image_url_https': None, 'profile_background_tile': False, 'profile_image_url': 'http://pbs.twimg.com/profile_images/1532728210756182025/HRNUHAGY_normal.jpg', 'profile_image_url_https': 'https://pbs.twimg.com/profile_images/1532728210756182025/HRNUHAGY_normal.jpg', 'profile_banner_url': 'https://pbs.twimg.com/profile_banners/1512376210441084932/1649413910', 'profile_link_color': '1DA1F2', 'profile_sidebar_border_color': 'C0DEED', 'profile_sidebar_fill_color': 'DDEEF6', 'profile_text_color': '333333', 'profile_use_background_image': True, 'has_extended_profile': True, 'default_profile': True, 'default_profile_image': False, 'following': False, 'follow_request_sent': False, 'notifications': False, 'translator_type': 'none', 'withheld_in_countries': []}, id=1512376210441084932, id_str='1512376210441084932', name='Ether Checker', screen_name='EtherChecker', location='EtherScan', description='I check ETH tokens and I will share my findings with you.\\n\\nERC-20 donation address:\\n\\n0xfA6BFa93deA782F1452eB43CBB2841425b10c3c8\\n\\nTelegram: https://t.co/oksSmlXgUK', url=None, entities={'description': {'urls': [{'url': 'https://t.co/oksSmlXgUK', 'expanded_url': 'http://t.me/Ether_Checker', 'display_url': 't.me/Ether_Checker', 'indices': [139, 162]}]}}, protected=False, followers_count=1158, friends_count=10, listed_count=20, created_at=datetime.datetime(2022, 4, 8, 10, 26, 25, tzinfo=datetime.timezone.utc), favourites_count=122, utc_offset=None, time_zone=None, geo_enabled=False, verified=False, statuses_count=33221, lang=None, contributors_enabled=False, is_translator=False, is_translation_enabled=False, profile_background_color='F5F8FA', profile_background_image_url=None, profile_background_image_url_https=None, profile_background_tile=False, profile_image_url='http://pbs.twimg.com/profile_images/1532728210756182025/HRNUHAGY_normal.jpg', profile_image_url_https='https://pbs.twimg.com/profile_images/1532728210756182025/HRNUHAGY_normal.jpg', profile_banner_url='https://pbs.twimg.com/profile_banners/1512376210441084932/1649413910', profile_link_color='1DA1F2', profile_sidebar_border_color='C0DEED', profile_sidebar_fill_color='DDEEF6', profile_text_color='333333', profile_use_background_image=True, has_extended_profile=True, default_profile=True, default_profile_image=False, following=False, follow_request_sent=False, notifications=False, translator_type='none', withheld_in_countries=[]), geo=None, coordinates=None, place=None, contributors=None, is_quote_status=False, retweet_count=0, favorite_count=0, favorited=False, retweeted=False, lang='en')\n",
      "3\n",
      "Status(_api=None, _json={'created_at': 'Sun Oct 16 19:54:31 +0000 2022', 'id': 1581735360274522115, 'id_str': '1581735360274522115', 'text': '🛑 CAUTION 🛑\\n\\nKim Kardashian Coin ( $KIM / WETH)\\nToken contract:\\n0xb98C61a4C4a87656a7EfaA69F5ba0964Eb2b3515\\n100.00%… https://t.co/nZlxQCDYOY', 'truncated': True, 'entities': {'hashtags': [], 'symbols': [{'text': 'KIM', 'indices': [35, 39]}], 'user_mentions': [], 'urls': [{'url': 'https://t.co/nZlxQCDYOY', 'expanded_url': 'https://twitter.com/i/web/status/1581735360274522115', 'display_url': 'twitter.com/i/web/status/1…', 'indices': [116, 139]}]}, 'metadata': {'iso_language_code': 'en', 'result_type': 'recent'}, 'source': '<a href=\"https://localhost.home\" rel=\"nofollow\">EtherCheckerApp</a>', 'in_reply_to_status_id': None, 'in_reply_to_status_id_str': None, 'in_reply_to_user_id': None, 'in_reply_to_user_id_str': None, 'in_reply_to_screen_name': None, 'user': {'id': 1512376210441084932, 'id_str': '1512376210441084932', 'name': 'Ether Checker', 'screen_name': 'EtherChecker', 'location': 'EtherScan', 'description': 'I check ETH tokens and I will share my findings with you.\\n\\nERC-20 donation address:\\n\\n0xfA6BFa93deA782F1452eB43CBB2841425b10c3c8\\n\\nTelegram: https://t.co/oksSmlXgUK', 'url': None, 'entities': {'description': {'urls': [{'url': 'https://t.co/oksSmlXgUK', 'expanded_url': 'http://t.me/Ether_Checker', 'display_url': 't.me/Ether_Checker', 'indices': [139, 162]}]}}, 'protected': False, 'followers_count': 1158, 'friends_count': 10, 'listed_count': 20, 'created_at': 'Fri Apr 08 10:26:25 +0000 2022', 'favourites_count': 122, 'utc_offset': None, 'time_zone': None, 'geo_enabled': False, 'verified': False, 'statuses_count': 33221, 'lang': None, 'contributors_enabled': False, 'is_translator': False, 'is_translation_enabled': False, 'profile_background_color': 'F5F8FA', 'profile_background_image_url': None, 'profile_background_image_url_https': None, 'profile_background_tile': False, 'profile_image_url': 'http://pbs.twimg.com/profile_images/1532728210756182025/HRNUHAGY_normal.jpg', 'profile_image_url_https': 'https://pbs.twimg.com/profile_images/1532728210756182025/HRNUHAGY_normal.jpg', 'profile_banner_url': 'https://pbs.twimg.com/profile_banners/1512376210441084932/1649413910', 'profile_link_color': '1DA1F2', 'profile_sidebar_border_color': 'C0DEED', 'profile_sidebar_fill_color': 'DDEEF6', 'profile_text_color': '333333', 'profile_use_background_image': True, 'has_extended_profile': True, 'default_profile': True, 'default_profile_image': False, 'following': False, 'follow_request_sent': False, 'notifications': False, 'translator_type': 'none', 'withheld_in_countries': []}, 'geo': None, 'coordinates': None, 'place': None, 'contributors': None, 'is_quote_status': False, 'retweet_count': 0, 'favorite_count': 0, 'favorited': False, 'retweeted': False, 'lang': 'en'}, created_at=datetime.datetime(2022, 10, 16, 19, 54, 31, tzinfo=datetime.timezone.utc), id=1581735360274522115, id_str='1581735360274522115', text='🛑 CAUTION 🛑\\n\\nKim Kardashian Coin ( $KIM / WETH)\\nToken contract:\\n0xb98C61a4C4a87656a7EfaA69F5ba0964Eb2b3515\\n100.00%… https://t.co/nZlxQCDYOY', truncated=True, entities={'hashtags': [], 'symbols': [{'text': 'KIM', 'indices': [35, 39]}], 'user_mentions': [], 'urls': [{'url': 'https://t.co/nZlxQCDYOY', 'expanded_url': 'https://twitter.com/i/web/status/1581735360274522115', 'display_url': 'twitter.com/i/web/status/1…', 'indices': [116, 139]}]}, metadata={'iso_language_code': 'en', 'result_type': 'recent'}, source='EtherCheckerApp', source_url='https://localhost.home', in_reply_to_status_id=None, in_reply_to_status_id_str=None, in_reply_to_user_id=None, in_reply_to_user_id_str=None, in_reply_to_screen_name=None, author=User(_api=None, _json={'id': 1512376210441084932, 'id_str': '1512376210441084932', 'name': 'Ether Checker', 'screen_name': 'EtherChecker', 'location': 'EtherScan', 'description': 'I check ETH tokens and I will share my findings with you.\\n\\nERC-20 donation address:\\n\\n0xfA6BFa93deA782F1452eB43CBB2841425b10c3c8\\n\\nTelegram: https://t.co/oksSmlXgUK', 'url': None, 'entities': {'description': {'urls': [{'url': 'https://t.co/oksSmlXgUK', 'expanded_url': 'http://t.me/Ether_Checker', 'display_url': 't.me/Ether_Checker', 'indices': [139, 162]}]}}, 'protected': False, 'followers_count': 1158, 'friends_count': 10, 'listed_count': 20, 'created_at': 'Fri Apr 08 10:26:25 +0000 2022', 'favourites_count': 122, 'utc_offset': None, 'time_zone': None, 'geo_enabled': False, 'verified': False, 'statuses_count': 33221, 'lang': None, 'contributors_enabled': False, 'is_translator': False, 'is_translation_enabled': False, 'profile_background_color': 'F5F8FA', 'profile_background_image_url': None, 'profile_background_image_url_https': None, 'profile_background_tile': False, 'profile_image_url': 'http://pbs.twimg.com/profile_images/1532728210756182025/HRNUHAGY_normal.jpg', 'profile_image_url_https': 'https://pbs.twimg.com/profile_images/1532728210756182025/HRNUHAGY_normal.jpg', 'profile_banner_url': 'https://pbs.twimg.com/profile_banners/1512376210441084932/1649413910', 'profile_link_color': '1DA1F2', 'profile_sidebar_border_color': 'C0DEED', 'profile_sidebar_fill_color': 'DDEEF6', 'profile_text_color': '333333', 'profile_use_background_image': True, 'has_extended_profile': True, 'default_profile': True, 'default_profile_image': False, 'following': False, 'follow_request_sent': False, 'notifications': False, 'translator_type': 'none', 'withheld_in_countries': []}, id=1512376210441084932, id_str='1512376210441084932', name='Ether Checker', screen_name='EtherChecker', location='EtherScan', description='I check ETH tokens and I will share my findings with you.\\n\\nERC-20 donation address:\\n\\n0xfA6BFa93deA782F1452eB43CBB2841425b10c3c8\\n\\nTelegram: https://t.co/oksSmlXgUK', url=None, entities={'description': {'urls': [{'url': 'https://t.co/oksSmlXgUK', 'expanded_url': 'http://t.me/Ether_Checker', 'display_url': 't.me/Ether_Checker', 'indices': [139, 162]}]}}, protected=False, followers_count=1158, friends_count=10, listed_count=20, created_at=datetime.datetime(2022, 4, 8, 10, 26, 25, tzinfo=datetime.timezone.utc), favourites_count=122, utc_offset=None, time_zone=None, geo_enabled=False, verified=False, statuses_count=33221, lang=None, contributors_enabled=False, is_translator=False, is_translation_enabled=False, profile_background_color='F5F8FA', profile_background_image_url=None, profile_background_image_url_https=None, profile_background_tile=False, profile_image_url='http://pbs.twimg.com/profile_images/1532728210756182025/HRNUHAGY_normal.jpg', profile_image_url_https='https://pbs.twimg.com/profile_images/1532728210756182025/HRNUHAGY_normal.jpg', profile_banner_url='https://pbs.twimg.com/profile_banners/1512376210441084932/1649413910', profile_link_color='1DA1F2', profile_sidebar_border_color='C0DEED', profile_sidebar_fill_color='DDEEF6', profile_text_color='333333', profile_use_background_image=True, has_extended_profile=True, default_profile=True, default_profile_image=False, following=False, follow_request_sent=False, notifications=False, translator_type='none', withheld_in_countries=[]), user=User(_api=None, _json={'id': 1512376210441084932, 'id_str': '1512376210441084932', 'name': 'Ether Checker', 'screen_name': 'EtherChecker', 'location': 'EtherScan', 'description': 'I check ETH tokens and I will share my findings with you.\\n\\nERC-20 donation address:\\n\\n0xfA6BFa93deA782F1452eB43CBB2841425b10c3c8\\n\\nTelegram: https://t.co/oksSmlXgUK', 'url': None, 'entities': {'description': {'urls': [{'url': 'https://t.co/oksSmlXgUK', 'expanded_url': 'http://t.me/Ether_Checker', 'display_url': 't.me/Ether_Checker', 'indices': [139, 162]}]}}, 'protected': False, 'followers_count': 1158, 'friends_count': 10, 'listed_count': 20, 'created_at': 'Fri Apr 08 10:26:25 +0000 2022', 'favourites_count': 122, 'utc_offset': None, 'time_zone': None, 'geo_enabled': False, 'verified': False, 'statuses_count': 33221, 'lang': None, 'contributors_enabled': False, 'is_translator': False, 'is_translation_enabled': False, 'profile_background_color': 'F5F8FA', 'profile_background_image_url': None, 'profile_background_image_url_https': None, 'profile_background_tile': False, 'profile_image_url': 'http://pbs.twimg.com/profile_images/1532728210756182025/HRNUHAGY_normal.jpg', 'profile_image_url_https': 'https://pbs.twimg.com/profile_images/1532728210756182025/HRNUHAGY_normal.jpg', 'profile_banner_url': 'https://pbs.twimg.com/profile_banners/1512376210441084932/1649413910', 'profile_link_color': '1DA1F2', 'profile_sidebar_border_color': 'C0DEED', 'profile_sidebar_fill_color': 'DDEEF6', 'profile_text_color': '333333', 'profile_use_background_image': True, 'has_extended_profile': True, 'default_profile': True, 'default_profile_image': False, 'following': False, 'follow_request_sent': False, 'notifications': False, 'translator_type': 'none', 'withheld_in_countries': []}, id=1512376210441084932, id_str='1512376210441084932', name='Ether Checker', screen_name='EtherChecker', location='EtherScan', description='I check ETH tokens and I will share my findings with you.\\n\\nERC-20 donation address:\\n\\n0xfA6BFa93deA782F1452eB43CBB2841425b10c3c8\\n\\nTelegram: https://t.co/oksSmlXgUK', url=None, entities={'description': {'urls': [{'url': 'https://t.co/oksSmlXgUK', 'expanded_url': 'http://t.me/Ether_Checker', 'display_url': 't.me/Ether_Checker', 'indices': [139, 162]}]}}, protected=False, followers_count=1158, friends_count=10, listed_count=20, created_at=datetime.datetime(2022, 4, 8, 10, 26, 25, tzinfo=datetime.timezone.utc), favourites_count=122, utc_offset=None, time_zone=None, geo_enabled=False, verified=False, statuses_count=33221, lang=None, contributors_enabled=False, is_translator=False, is_translation_enabled=False, profile_background_color='F5F8FA', profile_background_image_url=None, profile_background_image_url_https=None, profile_background_tile=False, profile_image_url='http://pbs.twimg.com/profile_images/1532728210756182025/HRNUHAGY_normal.jpg', profile_image_url_https='https://pbs.twimg.com/profile_images/1532728210756182025/HRNUHAGY_normal.jpg', profile_banner_url='https://pbs.twimg.com/profile_banners/1512376210441084932/1649413910', profile_link_color='1DA1F2', profile_sidebar_border_color='C0DEED', profile_sidebar_fill_color='DDEEF6', profile_text_color='333333', profile_use_background_image=True, has_extended_profile=True, default_profile=True, default_profile_image=False, following=False, follow_request_sent=False, notifications=False, translator_type='none', withheld_in_countries=[]), geo=None, coordinates=None, place=None, contributors=None, is_quote_status=False, retweet_count=0, favorite_count=0, favorited=False, retweeted=False, lang='en')\n"
     ]
    }
   ],
   "source": [
    "cnt=0\n",
    "tweets_data = [] #initialize master list to hold our ready tweets\n",
    "for tweet in tweets:\n",
    "    print(cnt)    \n",
    "    print(tweet)\n",
    "    cnt=cnt+1"
   ]
  },
  {
   "cell_type": "code",
   "execution_count": 14,
   "metadata": {},
   "outputs": [],
   "source": [
    "# https://developer.twitter.com/en/docs/twitter-api/v1/tweets/search/api-reference/get-search-tweets\n",
    "# https://docs.tweepy.org/en/stable/api.html#search-tweets\n",
    "tweets = tweepy.Cursor(api.search_tweets,\n",
    "              q=new_search,\n",
    "              lang=\"en\",\n",
    "              until=date_since).items(num_tweets)"
   ]
  },
  {
   "cell_type": "code",
   "execution_count": 15,
   "metadata": {},
   "outputs": [
    {
     "data": {
      "text/plain": [
       "<tweepy.cursor.ItemIterator at 0x7fdf90abf610>"
      ]
     },
     "execution_count": 15,
     "metadata": {},
     "output_type": "execute_result"
    }
   ],
   "source": [
    "tweets"
   ]
  },
  {
   "cell_type": "code",
   "execution_count": 16,
   "metadata": {},
   "outputs": [
    {
     "name": "stdout",
     "output_type": "stream",
     "text": [
      "0\n",
      "1\n",
      "2\n",
      "3\n"
     ]
    }
   ],
   "source": [
    "cnt=0\n",
    "tweets_data = [] #initialize master list to hold our ready tweets\n",
    "for tweet in tweets:\n",
    "    print(cnt)    \n",
    "    tweets_data.append([tweet.id_str,tweet.created_at,tweet.text.encode(\"utf-8\"),tweet.user.location])    \n",
    "    cnt=cnt+1"
   ]
  },
  {
   "cell_type": "code",
   "execution_count": 17,
   "metadata": {},
   "outputs": [
    {
     "data": {
      "text/plain": [
       "[['1583478629308456962',\n",
       "  datetime.datetime(2022, 10, 21, 15, 21, 39, tzinfo=datetime.timezone.utc),\n",
       "  b'@YouTube &amp; other online \"influencers\" are to the past decade what Kim Kardashian, Paris Hilton &amp; other brainless ta\\xe2\\x80\\xa6 https://t.co/ExvVAPH2lm',\n",
       "  'By Bellingham Bay'],\n",
       " ['1582951338085859328',\n",
       "  datetime.datetime(2022, 10, 20, 4, 26, 23, tzinfo=datetime.timezone.utc),\n",
       "  b'Whatsup about... (Kim Kardashian Gets Candid About Body Image, Breaks Down Her Photo Editingon 20. October 2022 at\\xe2\\x80\\xa6 https://t.co/42WLcziGwB',\n",
       "  'on Earth! '],\n",
       " ['1582053837518651394',\n",
       "  datetime.datetime(2022, 10, 17, 17, 0, 2, tzinfo=datetime.timezone.utc),\n",
       "  b'\\xf0\\x9f\\x9b\\x91 CAUTION \\xf0\\x9f\\x9b\\x91\\n\\nKim Kardashian Coin ( $KKC / WETH)\\nToken contract:\\n0x1beE2C11B71f53F71629279823c6ff8AEeF94F1E\\n98.90% l\\xe2\\x80\\xa6 https://t.co/eWT5PXIRh8',\n",
       "  'EtherScan'],\n",
       " ['1581735360274522115',\n",
       "  datetime.datetime(2022, 10, 16, 19, 54, 31, tzinfo=datetime.timezone.utc),\n",
       "  b'\\xf0\\x9f\\x9b\\x91 CAUTION \\xf0\\x9f\\x9b\\x91\\n\\nKim Kardashian Coin ( $KIM / WETH)\\nToken contract:\\n0xb98C61a4C4a87656a7EfaA69F5ba0964Eb2b3515\\n100.00%\\xe2\\x80\\xa6 https://t.co/nZlxQCDYOY',\n",
       "  'EtherScan']]"
      ]
     },
     "execution_count": 17,
     "metadata": {},
     "output_type": "execute_result"
    }
   ],
   "source": [
    "tweets_data"
   ]
  },
  {
   "cell_type": "markdown",
   "metadata": {},
   "source": [
    "## The following dataframe has been made with all the information related to #DunkinDonuts"
   ]
  },
  {
   "cell_type": "code",
   "execution_count": 19,
   "metadata": {},
   "outputs": [
    {
     "data": {
      "text/html": [
       "<div>\n",
       "<style scoped>\n",
       "    .dataframe tbody tr th:only-of-type {\n",
       "        vertical-align: middle;\n",
       "    }\n",
       "\n",
       "    .dataframe tbody tr th {\n",
       "        vertical-align: top;\n",
       "    }\n",
       "\n",
       "    .dataframe thead th {\n",
       "        text-align: right;\n",
       "    }\n",
       "</style>\n",
       "<table border=\"1\" class=\"dataframe\">\n",
       "  <thead>\n",
       "    <tr style=\"text-align: right;\">\n",
       "      <th></th>\n",
       "      <th>ID</th>\n",
       "      <th>Created_at</th>\n",
       "      <th>Text</th>\n",
       "      <th>Location</th>\n",
       "    </tr>\n",
       "  </thead>\n",
       "  <tbody>\n",
       "    <tr>\n",
       "      <th>0</th>\n",
       "      <td>1583478629308456962</td>\n",
       "      <td>2022-10-21 15:21:39+00:00</td>\n",
       "      <td>b'@YouTube &amp;amp; other online \"influencers\" ar...</td>\n",
       "      <td>By Bellingham Bay</td>\n",
       "    </tr>\n",
       "    <tr>\n",
       "      <th>1</th>\n",
       "      <td>1582951338085859328</td>\n",
       "      <td>2022-10-20 04:26:23+00:00</td>\n",
       "      <td>b'Whatsup about... (Kim Kardashian Gets Candid...</td>\n",
       "      <td>on Earth!</td>\n",
       "    </tr>\n",
       "    <tr>\n",
       "      <th>2</th>\n",
       "      <td>1582053837518651394</td>\n",
       "      <td>2022-10-17 17:00:02+00:00</td>\n",
       "      <td>b'\\xf0\\x9f\\x9b\\x91 CAUTION \\xf0\\x9f\\x9b\\x91\\n\\...</td>\n",
       "      <td>EtherScan</td>\n",
       "    </tr>\n",
       "    <tr>\n",
       "      <th>3</th>\n",
       "      <td>1581735360274522115</td>\n",
       "      <td>2022-10-16 19:54:31+00:00</td>\n",
       "      <td>b'\\xf0\\x9f\\x9b\\x91 CAUTION \\xf0\\x9f\\x9b\\x91\\n\\...</td>\n",
       "      <td>EtherScan</td>\n",
       "    </tr>\n",
       "  </tbody>\n",
       "</table>\n",
       "</div>"
      ],
      "text/plain": [
       "                    ID                Created_at  \\\n",
       "0  1583478629308456962 2022-10-21 15:21:39+00:00   \n",
       "1  1582951338085859328 2022-10-20 04:26:23+00:00   \n",
       "2  1582053837518651394 2022-10-17 17:00:02+00:00   \n",
       "3  1581735360274522115 2022-10-16 19:54:31+00:00   \n",
       "\n",
       "                                                Text           Location  \n",
       "0  b'@YouTube &amp; other online \"influencers\" ar...  By Bellingham Bay  \n",
       "1  b'Whatsup about... (Kim Kardashian Gets Candid...         on Earth!   \n",
       "2  b'\\xf0\\x9f\\x9b\\x91 CAUTION \\xf0\\x9f\\x9b\\x91\\n\\...          EtherScan  \n",
       "3  b'\\xf0\\x9f\\x9b\\x91 CAUTION \\xf0\\x9f\\x9b\\x91\\n\\...          EtherScan  "
      ]
     },
     "execution_count": 19,
     "metadata": {},
     "output_type": "execute_result"
    }
   ],
   "source": [
    "tweets_df = pd.DataFrame(tweets_data,columns = [\"ID\",\"Created_at\",\"Text\",\"Location\"])\n",
    "tweets_df    "
   ]
  },
  {
   "cell_type": "markdown",
   "metadata": {},
   "source": [
    "## Appending the sentiment score to the exisiting dataframe and writing to a CSV File. Downloading images to a particular folder."
   ]
  },
  {
   "cell_type": "code",
   "execution_count": 20,
   "metadata": {},
   "outputs": [
    {
     "data": {
      "text/html": [
       "<div>\n",
       "<style scoped>\n",
       "    .dataframe tbody tr th:only-of-type {\n",
       "        vertical-align: middle;\n",
       "    }\n",
       "\n",
       "    .dataframe tbody tr th {\n",
       "        vertical-align: top;\n",
       "    }\n",
       "\n",
       "    .dataframe thead th {\n",
       "        text-align: right;\n",
       "    }\n",
       "</style>\n",
       "<table border=\"1\" class=\"dataframe\">\n",
       "  <thead>\n",
       "    <tr style=\"text-align: right;\">\n",
       "      <th></th>\n",
       "      <th>ID</th>\n",
       "      <th>Created_at</th>\n",
       "      <th>Text</th>\n",
       "      <th>Location</th>\n",
       "    </tr>\n",
       "  </thead>\n",
       "  <tbody>\n",
       "    <tr>\n",
       "      <th>0</th>\n",
       "      <td>1583478629308456962</td>\n",
       "      <td>2022-10-21 15:21:39+00:00</td>\n",
       "      <td>b'@YouTube &amp;amp; other online \"influencers\" ar...</td>\n",
       "      <td>By Bellingham Bay</td>\n",
       "    </tr>\n",
       "    <tr>\n",
       "      <th>1</th>\n",
       "      <td>1582951338085859328</td>\n",
       "      <td>2022-10-20 04:26:23+00:00</td>\n",
       "      <td>b'Whatsup about... (Kim Kardashian Gets Candid...</td>\n",
       "      <td>on Earth!</td>\n",
       "    </tr>\n",
       "    <tr>\n",
       "      <th>2</th>\n",
       "      <td>1582053837518651394</td>\n",
       "      <td>2022-10-17 17:00:02+00:00</td>\n",
       "      <td>b'\\xf0\\x9f\\x9b\\x91 CAUTION \\xf0\\x9f\\x9b\\x91\\n\\...</td>\n",
       "      <td>EtherScan</td>\n",
       "    </tr>\n",
       "    <tr>\n",
       "      <th>3</th>\n",
       "      <td>1581735360274522115</td>\n",
       "      <td>2022-10-16 19:54:31+00:00</td>\n",
       "      <td>b'\\xf0\\x9f\\x9b\\x91 CAUTION \\xf0\\x9f\\x9b\\x91\\n\\...</td>\n",
       "      <td>EtherScan</td>\n",
       "    </tr>\n",
       "  </tbody>\n",
       "</table>\n",
       "</div>"
      ],
      "text/plain": [
       "                    ID                Created_at  \\\n",
       "0  1583478629308456962 2022-10-21 15:21:39+00:00   \n",
       "1  1582951338085859328 2022-10-20 04:26:23+00:00   \n",
       "2  1582053837518651394 2022-10-17 17:00:02+00:00   \n",
       "3  1581735360274522115 2022-10-16 19:54:31+00:00   \n",
       "\n",
       "                                                Text           Location  \n",
       "0  b'@YouTube &amp; other online \"influencers\" ar...  By Bellingham Bay  \n",
       "1  b'Whatsup about... (Kim Kardashian Gets Candid...         on Earth!   \n",
       "2  b'\\xf0\\x9f\\x9b\\x91 CAUTION \\xf0\\x9f\\x9b\\x91\\n\\...          EtherScan  \n",
       "3  b'\\xf0\\x9f\\x9b\\x91 CAUTION \\xf0\\x9f\\x9b\\x91\\n\\...          EtherScan  "
      ]
     },
     "execution_count": 20,
     "metadata": {},
     "output_type": "execute_result"
    }
   ],
   "source": [
    "tweets_df.head()"
   ]
  },
  {
   "cell_type": "code",
   "execution_count": 21,
   "metadata": {},
   "outputs": [
    {
     "name": "stdout",
     "output_type": "stream",
     "text": [
      "kim+kardashian_-filter:retweets.csv\n"
     ]
    }
   ],
   "source": [
    "outfile=re.sub(r\"\\s+\", '_', new_search)\n",
    "outfile=outfile+'.csv'\n",
    "print(outfile)\n",
    "tweets_df.to_csv(outfile, sep=',', encoding='utf-8')"
   ]
  }
 ],
 "metadata": {
  "kernelspec": {
   "display_name": "Python 3 (ipykernel)",
   "language": "python",
   "name": "python3"
  },
  "language_info": {
   "codemirror_mode": {
    "name": "ipython",
    "version": 3
   },
   "file_extension": ".py",
   "mimetype": "text/x-python",
   "name": "python",
   "nbconvert_exporter": "python",
   "pygments_lexer": "ipython3",
   "version": "3.8.5"
  }
 },
 "nbformat": 4,
 "nbformat_minor": 2
}
